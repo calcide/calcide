{
  "nbformat": 4,
  "nbformat_minor": 0,
  "metadata": {
    "colab": {
      "provenance": [],
      "collapsed_sections": [],
      "authorship_tag": "ABX9TyP+zwZmOHQQAd+NeGfrBVko",
      "include_colab_link": true
    },
    "kernelspec": {
      "name": "python3",
      "display_name": "Python 3"
    },
    "language_info": {
      "name": "python"
    }
  },
  "cells": [
    {
      "cell_type": "markdown",
      "metadata": {
        "id": "view-in-github",
        "colab_type": "text"
      },
      "source": [
        "<a href=\"https://colab.research.google.com/github/calcide/calcide/blob/main/Regressi%C3%B3ns_lineals.ipynb\" target=\"_parent\"><img src=\"https://colab.research.google.com/assets/colab-badge.svg\" alt=\"Open In Colab\"/></a>"
      ]
    },
    {
      "cell_type": "markdown",
      "source": [
        "# **Regressió lineal**"
      ],
      "metadata": {
        "id": "TjbpF-GPqBBD"
      }
    },
    {
      "cell_type": "code",
      "source": [
        "import scipy.stats\n",
        "\n",
        "X = [0.2, 0.5, 0.8, 1.2] # to be substituted by your X values\n",
        "Y = [0.115 ,0.425, 0.655, 0.998] # # to be substituted by your Y values\n",
        "TextX = \"X\" # can be substituted by whatever quantity\n",
        "TextY = \"Y\" # can be substituted by whatever quantity\n",
        "\n",
        "Slope, Intercept, R, p_value, std_err = scipy.stats.linregress(X,Y)\n",
        "print(len(X),\" x-points    \",len(Y),\" y-points\")\n",
        "print(\"Intercept = \",Intercept)\n",
        "print(\"Slope = \",str(Slope)+\"*X + \"+str(Intercept))\n",
        "print(\"\\nR^2=%-7.4f\\n\"%R**2)\n",
        "\n",
        "import matplotlib.pyplot as plt\n",
        "\n",
        "plt.plot(X, Y, 'bo')\n",
        "plt.plot([min(X),max(X)],[Intercept+Slope*min(X),Intercept+Slope*max(X)], color='red')\n",
        "plt.legend([TextY])\n",
        "plt.xlabel(TextX)\n",
        "plt.ylabel(TextY)\n",
        "plt.title(\"%s = %6.3f*%s + %6.3f\"%(TextY, Slope, TextX, Intercept))\n",
        "plt.show()"
      ],
      "metadata": {
        "colab": {
          "base_uri": "https://localhost:8080/",
          "height": 399
        },
        "id": "MLVAEnA2qAUg",
        "outputId": "db020dfa-a035-4d21-d261-bf51380c8d6b"
      },
      "execution_count": 1,
      "outputs": [
        {
          "output_type": "stream",
          "name": "stdout",
          "text": [
            "4  x-points     4  y-points\n",
            "Intercept =  -0.03961643835616435\n",
            "Slope =  0.8709132420091323*X + -0.03961643835616435\n",
            "\n",
            "R^2=0.9969 \n",
            "\n"
          ]
        },
        {
          "output_type": "display_data",
          "data": {
            "text/plain": [
              "<Figure size 432x288 with 1 Axes>"
            ],
            "image/png": "[encoded data removed]"
          },
          "metadata": {
            "needs_background": "light"
          }
        }
      ]
    },
    {
      "cell_type": "markdown",
      "source": [
        "# **Regressió Multilineal**"
      ],
      "metadata": {
        "id": "GLWLZgkDqBI3"
      }
    },
    {
      "cell_type": "code",
      "source": [
        "# Python code for multiple linear regression Z = a*X + b*Y + c\n",
        "# in linear or logarithmic scale\n",
        "\n",
        "import sklearn.linear_model, math\n",
        "\n",
        "Z = [ 0.0477, 0.135, 0.382, 1.08]\n",
        "X = [ 0.50, 0.50, 1.00, 1.00]\n",
        "Y = [ 0.50, 1.00, 0.50, 1.00]\n",
        "\n",
        "LogX = True # Set LogX = False for a linear X scale\n",
        "LogY = True # Set LogY = False for a linear Y scale\n",
        "LogZ = True # Set LogZ = False for a linear Z scale\n",
        "\n",
        "TextX = \"X\"\n",
        "TextY = \"Y\"\n",
        "TextZ = \"Z\"\n",
        "\n",
        "# Logarithmic scale\n",
        "if LogX:\n",
        "  X = [math.log(r) for r in X]\n",
        "  TextX = \"lnX\"\n",
        "if LogY:\n",
        "  Y = [math.log(r) for r in Y]\n",
        "  TextY = \"lnY\"\n",
        "if LogZ:\n",
        "  Z = [math.log(r) for r in Z]\n",
        "  TextZ = \"lnZ\"\n",
        "\n",
        "XY = [[X[i],Y[i]] for i in range(len(X))]\n",
        "\n",
        "regr = sklearn.linear_model.LinearRegression().fit(XY, Z)\n",
        "\n",
        "print(TextZ,'= ',str(regr.coef_[0])+\"*\"+TextX+' + '+str(regr.coef_[1])+\"*\"+TextY,'+', regr.intercept_)\n",
        "R2 = regr.score(XY, Z)\n",
        "print(\"R2 =\",R2)"
      ],
      "metadata": {
        "colab": {
          "base_uri": "https://localhost:8080/"
        },
        "id": "gyC6AO-DfqE9",
        "outputId": "a2fe0c5d-9717-4a8a-8e23-dd51c7c7ebbc"
      },
      "execution_count": null,
      "outputs": [
        {
          "output_type": "stream",
          "name": "stdout",
          "text": [
            "Z =  1.2792999999999997*X + 0.7852999999999998*Y + -1.1372749999999994\n",
            "R2 = 0.8579902134331325\n"
          ]
        }
      ]
    }
  ]
}